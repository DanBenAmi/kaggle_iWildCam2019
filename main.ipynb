{
 "cells": [
  {
   "cell_type": "code",
   "execution_count": 25,
   "outputs": [],
   "source": [
    "# Libraries\n",
    "import os\n",
    "from glob import glob\n",
    "\n",
    "import numpy as np\n",
    "import pandas as pd\n",
    "import matplotlib.pyplot as plt\n",
    "import cv2\n",
    "import torch\n",
    "import torch.nn as nn\n",
    "import torchvision\n",
    "from torchvision.transforms import transforms\n",
    "from torch.utils.data import Dataset, DataLoader\n",
    "from torchvision import models\n",
    "from torch.utils.data import WeightedRandomSampler\n",
    "from sklearn.model_selection import train_test_split"
   ],
   "metadata": {
    "collapsed": false
   }
  },
  {
   "cell_type": "markdown",
   "source": [
    "## Data Processing"
   ],
   "metadata": {
    "collapsed": false
   }
  },
  {
   "cell_type": "markdown",
   "source": [
    "### Data Evaluation"
   ],
   "metadata": {
    "collapsed": false
   }
  },
  {
   "cell_type": "code",
   "execution_count": 5,
   "outputs": [
    {
     "name": "stdout",
     "output_type": "stream",
     "text": [
      "Total images for train 196087\n"
     ]
    }
   ],
   "source": [
    "# Data path\n",
    "train_df_all = pd.read_csv('input/train.csv')\n",
    "test_df = pd.read_csv('input/test.csv')\n",
    "# sub = pd.read_csv('input/sample_submission.csv')\n",
    "train_dir = 'input/train_images'\n",
    "test_dir = 'input/test_images'\n",
    "print('Total images for train {0}'.format(len(os.listdir(train_dir))))\n",
    "# print('Total images for train {0}'.format(len(os.listdir(test_dir))))\n"
   ],
   "metadata": {
    "collapsed": false
   }
  },
  {
   "cell_type": "code",
   "execution_count": 6,
   "outputs": [
    {
     "data": {
      "text/plain": "    category_id        date_captured  \\\n50           11  2011-12-22 23:26:49   \n51            0  2014-09-09 19:00:00   \n52            0  2013-09-29 09:00:00   \n53            0  2013-10-04 13:52:07   \n54            0  2014-05-09 13:23:40   \n55           13  2012-02-12 22:20:38   \n56            0  2013-12-24 22:00:00   \n57            0  2014-07-10 04:00:00   \n58            0  2013-08-03 13:31:10   \n59            0  2014-05-08 11:43:52   \n\n                                   file_name  frame_num  \\\n50  58ff0fe6-23d2-11e8-a6a3-ec086b02610b.jpg          2   \n51  599290c6-23d2-11e8-a6a3-ec086b02610b.jpg          1   \n52  599d7d66-23d2-11e8-a6a3-ec086b02610b.jpg          1   \n53  598f78a4-23d2-11e8-a6a3-ec086b02610b.jpg          1   \n54  5a1b13d4-23d2-11e8-a6a3-ec086b02610b.jpg          1   \n55  5a2c8630-23d2-11e8-a6a3-ec086b02610b.jpg          1   \n56  59055eca-23d2-11e8-a6a3-ec086b02610b.jpg          1   \n57  59c1774b-23d2-11e8-a6a3-ec086b02610b.jpg          1   \n58  5a1fe744-23d2-11e8-a6a3-ec086b02610b.jpg          5   \n59  58d92fb3-23d2-11e8-a6a3-ec086b02610b.jpg          1   \n\n                                      id  location  rights_holder  \\\n50  58ff0fe6-23d2-11e8-a6a3-ec086b02610b       130   Justin Brown   \n51  599290c6-23d2-11e8-a6a3-ec086b02610b        26  Erin Boydston   \n52  599d7d66-23d2-11e8-a6a3-ec086b02610b        23  Erin Boydston   \n53  598f78a4-23d2-11e8-a6a3-ec086b02610b        26  Erin Boydston   \n54  5a1b13d4-23d2-11e8-a6a3-ec086b02610b        26  Erin Boydston   \n55  5a2c8630-23d2-11e8-a6a3-ec086b02610b        46   Justin Brown   \n56  59055eca-23d2-11e8-a6a3-ec086b02610b        96  Erin Boydston   \n57  59c1774b-23d2-11e8-a6a3-ec086b02610b        57  Erin Boydston   \n58  5a1fe744-23d2-11e8-a6a3-ec086b02610b        56   Justin Brown   \n59  58d92fb3-23d2-11e8-a6a3-ec086b02610b        96  Erin Boydston   \n\n                                  seq_id  seq_num_frames  width  height  \n50  6f0d3461-5567-11e8-86be-dca9047ef277               3   1024     747  \n51  6f4d9ae6-5567-11e8-9e3b-dca9047ef277               1   1024     747  \n52  6fde1a14-5567-11e8-86f5-dca9047ef277               1   1024     747  \n53  6f21b7b5-5567-11e8-844d-dca9047ef277               1   1024     747  \n54  6f3909d4-5567-11e8-aab8-dca9047ef277               1   1024     747  \n55  6f185319-5567-11e8-8d8c-dca9047ef277               3   1024     747  \n56  6f93c368-5567-11e8-9dc4-dca9047ef277               1   1024     747  \n57  6f8c7007-5567-11e8-85d2-dca9047ef277               1   1024     747  \n58  7010efc0-5567-11e8-8105-dca9047ef277               5   1024     747  \n59  6fa205a6-5567-11e8-84b5-dca9047ef277               1   1024     747  ",
      "text/html": "<div>\n<style scoped>\n    .dataframe tbody tr th:only-of-type {\n        vertical-align: middle;\n    }\n\n    .dataframe tbody tr th {\n        vertical-align: top;\n    }\n\n    .dataframe thead th {\n        text-align: right;\n    }\n</style>\n<table border=\"1\" class=\"dataframe\">\n  <thead>\n    <tr style=\"text-align: right;\">\n      <th></th>\n      <th>category_id</th>\n      <th>date_captured</th>\n      <th>file_name</th>\n      <th>frame_num</th>\n      <th>id</th>\n      <th>location</th>\n      <th>rights_holder</th>\n      <th>seq_id</th>\n      <th>seq_num_frames</th>\n      <th>width</th>\n      <th>height</th>\n    </tr>\n  </thead>\n  <tbody>\n    <tr>\n      <th>50</th>\n      <td>11</td>\n      <td>2011-12-22 23:26:49</td>\n      <td>58ff0fe6-23d2-11e8-a6a3-ec086b02610b.jpg</td>\n      <td>2</td>\n      <td>58ff0fe6-23d2-11e8-a6a3-ec086b02610b</td>\n      <td>130</td>\n      <td>Justin Brown</td>\n      <td>6f0d3461-5567-11e8-86be-dca9047ef277</td>\n      <td>3</td>\n      <td>1024</td>\n      <td>747</td>\n    </tr>\n    <tr>\n      <th>51</th>\n      <td>0</td>\n      <td>2014-09-09 19:00:00</td>\n      <td>599290c6-23d2-11e8-a6a3-ec086b02610b.jpg</td>\n      <td>1</td>\n      <td>599290c6-23d2-11e8-a6a3-ec086b02610b</td>\n      <td>26</td>\n      <td>Erin Boydston</td>\n      <td>6f4d9ae6-5567-11e8-9e3b-dca9047ef277</td>\n      <td>1</td>\n      <td>1024</td>\n      <td>747</td>\n    </tr>\n    <tr>\n      <th>52</th>\n      <td>0</td>\n      <td>2013-09-29 09:00:00</td>\n      <td>599d7d66-23d2-11e8-a6a3-ec086b02610b.jpg</td>\n      <td>1</td>\n      <td>599d7d66-23d2-11e8-a6a3-ec086b02610b</td>\n      <td>23</td>\n      <td>Erin Boydston</td>\n      <td>6fde1a14-5567-11e8-86f5-dca9047ef277</td>\n      <td>1</td>\n      <td>1024</td>\n      <td>747</td>\n    </tr>\n    <tr>\n      <th>53</th>\n      <td>0</td>\n      <td>2013-10-04 13:52:07</td>\n      <td>598f78a4-23d2-11e8-a6a3-ec086b02610b.jpg</td>\n      <td>1</td>\n      <td>598f78a4-23d2-11e8-a6a3-ec086b02610b</td>\n      <td>26</td>\n      <td>Erin Boydston</td>\n      <td>6f21b7b5-5567-11e8-844d-dca9047ef277</td>\n      <td>1</td>\n      <td>1024</td>\n      <td>747</td>\n    </tr>\n    <tr>\n      <th>54</th>\n      <td>0</td>\n      <td>2014-05-09 13:23:40</td>\n      <td>5a1b13d4-23d2-11e8-a6a3-ec086b02610b.jpg</td>\n      <td>1</td>\n      <td>5a1b13d4-23d2-11e8-a6a3-ec086b02610b</td>\n      <td>26</td>\n      <td>Erin Boydston</td>\n      <td>6f3909d4-5567-11e8-aab8-dca9047ef277</td>\n      <td>1</td>\n      <td>1024</td>\n      <td>747</td>\n    </tr>\n    <tr>\n      <th>55</th>\n      <td>13</td>\n      <td>2012-02-12 22:20:38</td>\n      <td>5a2c8630-23d2-11e8-a6a3-ec086b02610b.jpg</td>\n      <td>1</td>\n      <td>5a2c8630-23d2-11e8-a6a3-ec086b02610b</td>\n      <td>46</td>\n      <td>Justin Brown</td>\n      <td>6f185319-5567-11e8-8d8c-dca9047ef277</td>\n      <td>3</td>\n      <td>1024</td>\n      <td>747</td>\n    </tr>\n    <tr>\n      <th>56</th>\n      <td>0</td>\n      <td>2013-12-24 22:00:00</td>\n      <td>59055eca-23d2-11e8-a6a3-ec086b02610b.jpg</td>\n      <td>1</td>\n      <td>59055eca-23d2-11e8-a6a3-ec086b02610b</td>\n      <td>96</td>\n      <td>Erin Boydston</td>\n      <td>6f93c368-5567-11e8-9dc4-dca9047ef277</td>\n      <td>1</td>\n      <td>1024</td>\n      <td>747</td>\n    </tr>\n    <tr>\n      <th>57</th>\n      <td>0</td>\n      <td>2014-07-10 04:00:00</td>\n      <td>59c1774b-23d2-11e8-a6a3-ec086b02610b.jpg</td>\n      <td>1</td>\n      <td>59c1774b-23d2-11e8-a6a3-ec086b02610b</td>\n      <td>57</td>\n      <td>Erin Boydston</td>\n      <td>6f8c7007-5567-11e8-85d2-dca9047ef277</td>\n      <td>1</td>\n      <td>1024</td>\n      <td>747</td>\n    </tr>\n    <tr>\n      <th>58</th>\n      <td>0</td>\n      <td>2013-08-03 13:31:10</td>\n      <td>5a1fe744-23d2-11e8-a6a3-ec086b02610b.jpg</td>\n      <td>5</td>\n      <td>5a1fe744-23d2-11e8-a6a3-ec086b02610b</td>\n      <td>56</td>\n      <td>Justin Brown</td>\n      <td>7010efc0-5567-11e8-8105-dca9047ef277</td>\n      <td>5</td>\n      <td>1024</td>\n      <td>747</td>\n    </tr>\n    <tr>\n      <th>59</th>\n      <td>0</td>\n      <td>2014-05-08 11:43:52</td>\n      <td>58d92fb3-23d2-11e8-a6a3-ec086b02610b.jpg</td>\n      <td>1</td>\n      <td>58d92fb3-23d2-11e8-a6a3-ec086b02610b</td>\n      <td>96</td>\n      <td>Erin Boydston</td>\n      <td>6fa205a6-5567-11e8-84b5-dca9047ef277</td>\n      <td>1</td>\n      <td>1024</td>\n      <td>747</td>\n    </tr>\n  </tbody>\n</table>\n</div>"
     },
     "execution_count": 6,
     "metadata": {},
     "output_type": "execute_result"
    }
   ],
   "source": [
    "train_df_all.iloc[50:60]"
   ],
   "metadata": {
    "collapsed": false
   }
  },
  {
   "cell_type": "code",
   "execution_count": 7,
   "outputs": [
    {
     "data": {
      "text/plain": "           date_captured                                 file_name  frame_num  \\\n50  03-Jan-2016 15:20:00  bf25c980-2bf6-11e9-bcad-06f10d5896c4.jpg          1   \n51  03-Jan-2016 15:25:00  bf25c981-2bf6-11e9-bcad-06f10d5896c4.jpg          1   \n52  03-Jan-2016 15:30:00  bf25c982-2bf6-11e9-bcad-06f10d5896c4.jpg          1   \n53  03-Jan-2016 15:35:00  bf25c983-2bf6-11e9-bcad-06f10d5896c4.jpg          1   \n54  03-Jan-2016 15:40:00  bf25c984-2bf6-11e9-bcad-06f10d5896c4.jpg          1   \n55  03-Jan-2016 15:45:00  bf25c985-2bf6-11e9-bcad-06f10d5896c4.jpg          1   \n56  03-Jan-2016 15:50:00  bf25c986-2bf6-11e9-bcad-06f10d5896c4.jpg          1   \n57  03-Jan-2016 15:55:00  bf25c987-2bf6-11e9-bcad-06f10d5896c4.jpg          1   \n58  03-Jan-2016 16:00:00  bf25c988-2bf6-11e9-bcad-06f10d5896c4.jpg          1   \n59  03-Jan-2016 16:05:00  bf25c989-2bf6-11e9-bcad-06f10d5896c4.jpg          1   \n\n                                      id  location  \\\n50  bf25c980-2bf6-11e9-bcad-06f10d5896c4        37   \n51  bf25c981-2bf6-11e9-bcad-06f10d5896c4        37   \n52  bf25c982-2bf6-11e9-bcad-06f10d5896c4        37   \n53  bf25c983-2bf6-11e9-bcad-06f10d5896c4        37   \n54  bf25c984-2bf6-11e9-bcad-06f10d5896c4        37   \n55  bf25c985-2bf6-11e9-bcad-06f10d5896c4        37   \n56  bf25c986-2bf6-11e9-bcad-06f10d5896c4        37   \n57  bf25c987-2bf6-11e9-bcad-06f10d5896c4        37   \n58  bf25c988-2bf6-11e9-bcad-06f10d5896c4        37   \n59  bf25c989-2bf6-11e9-bcad-06f10d5896c4        37   \n\n                        rights_holder                                seq_id  \\\n50  Idaho Department of Fish and Game  6e9ad223-2e32-11e9-9151-dca9047ef277   \n51  Idaho Department of Fish and Game  6e9ad26b-2e32-11e9-9562-dca9047ef277   \n52  Idaho Department of Fish and Game  6e9ad2b0-2e32-11e9-89e5-dca9047ef277   \n53  Idaho Department of Fish and Game  6e9ad2f5-2e32-11e9-b742-dca9047ef277   \n54  Idaho Department of Fish and Game  6e9ad33a-2e32-11e9-9bde-dca9047ef277   \n55  Idaho Department of Fish and Game  6e9ad378-2e32-11e9-91d0-dca9047ef277   \n56  Idaho Department of Fish and Game  6e9ad3bd-2e32-11e9-93e5-dca9047ef277   \n57  Idaho Department of Fish and Game  6e9ad405-2e32-11e9-830b-dca9047ef277   \n58  Idaho Department of Fish and Game  6e9ad440-2e32-11e9-a2d6-dca9047ef277   \n59  Idaho Department of Fish and Game  6e9ad485-2e32-11e9-bbc6-dca9047ef277   \n\n    seq_num_frames  width  height  \n50               1   1024     726  \n51               1   1024     726  \n52               1   1024     726  \n53               1   1024     726  \n54               1   1024     726  \n55               1   1024     726  \n56               1   1024     726  \n57               1   1024     726  \n58               1   1024     726  \n59               1   1024     726  ",
      "text/html": "<div>\n<style scoped>\n    .dataframe tbody tr th:only-of-type {\n        vertical-align: middle;\n    }\n\n    .dataframe tbody tr th {\n        vertical-align: top;\n    }\n\n    .dataframe thead th {\n        text-align: right;\n    }\n</style>\n<table border=\"1\" class=\"dataframe\">\n  <thead>\n    <tr style=\"text-align: right;\">\n      <th></th>\n      <th>date_captured</th>\n      <th>file_name</th>\n      <th>frame_num</th>\n      <th>id</th>\n      <th>location</th>\n      <th>rights_holder</th>\n      <th>seq_id</th>\n      <th>seq_num_frames</th>\n      <th>width</th>\n      <th>height</th>\n    </tr>\n  </thead>\n  <tbody>\n    <tr>\n      <th>50</th>\n      <td>03-Jan-2016 15:20:00</td>\n      <td>bf25c980-2bf6-11e9-bcad-06f10d5896c4.jpg</td>\n      <td>1</td>\n      <td>bf25c980-2bf6-11e9-bcad-06f10d5896c4</td>\n      <td>37</td>\n      <td>Idaho Department of Fish and Game</td>\n      <td>6e9ad223-2e32-11e9-9151-dca9047ef277</td>\n      <td>1</td>\n      <td>1024</td>\n      <td>726</td>\n    </tr>\n    <tr>\n      <th>51</th>\n      <td>03-Jan-2016 15:25:00</td>\n      <td>bf25c981-2bf6-11e9-bcad-06f10d5896c4.jpg</td>\n      <td>1</td>\n      <td>bf25c981-2bf6-11e9-bcad-06f10d5896c4</td>\n      <td>37</td>\n      <td>Idaho Department of Fish and Game</td>\n      <td>6e9ad26b-2e32-11e9-9562-dca9047ef277</td>\n      <td>1</td>\n      <td>1024</td>\n      <td>726</td>\n    </tr>\n    <tr>\n      <th>52</th>\n      <td>03-Jan-2016 15:30:00</td>\n      <td>bf25c982-2bf6-11e9-bcad-06f10d5896c4.jpg</td>\n      <td>1</td>\n      <td>bf25c982-2bf6-11e9-bcad-06f10d5896c4</td>\n      <td>37</td>\n      <td>Idaho Department of Fish and Game</td>\n      <td>6e9ad2b0-2e32-11e9-89e5-dca9047ef277</td>\n      <td>1</td>\n      <td>1024</td>\n      <td>726</td>\n    </tr>\n    <tr>\n      <th>53</th>\n      <td>03-Jan-2016 15:35:00</td>\n      <td>bf25c983-2bf6-11e9-bcad-06f10d5896c4.jpg</td>\n      <td>1</td>\n      <td>bf25c983-2bf6-11e9-bcad-06f10d5896c4</td>\n      <td>37</td>\n      <td>Idaho Department of Fish and Game</td>\n      <td>6e9ad2f5-2e32-11e9-b742-dca9047ef277</td>\n      <td>1</td>\n      <td>1024</td>\n      <td>726</td>\n    </tr>\n    <tr>\n      <th>54</th>\n      <td>03-Jan-2016 15:40:00</td>\n      <td>bf25c984-2bf6-11e9-bcad-06f10d5896c4.jpg</td>\n      <td>1</td>\n      <td>bf25c984-2bf6-11e9-bcad-06f10d5896c4</td>\n      <td>37</td>\n      <td>Idaho Department of Fish and Game</td>\n      <td>6e9ad33a-2e32-11e9-9bde-dca9047ef277</td>\n      <td>1</td>\n      <td>1024</td>\n      <td>726</td>\n    </tr>\n    <tr>\n      <th>55</th>\n      <td>03-Jan-2016 15:45:00</td>\n      <td>bf25c985-2bf6-11e9-bcad-06f10d5896c4.jpg</td>\n      <td>1</td>\n      <td>bf25c985-2bf6-11e9-bcad-06f10d5896c4</td>\n      <td>37</td>\n      <td>Idaho Department of Fish and Game</td>\n      <td>6e9ad378-2e32-11e9-91d0-dca9047ef277</td>\n      <td>1</td>\n      <td>1024</td>\n      <td>726</td>\n    </tr>\n    <tr>\n      <th>56</th>\n      <td>03-Jan-2016 15:50:00</td>\n      <td>bf25c986-2bf6-11e9-bcad-06f10d5896c4.jpg</td>\n      <td>1</td>\n      <td>bf25c986-2bf6-11e9-bcad-06f10d5896c4</td>\n      <td>37</td>\n      <td>Idaho Department of Fish and Game</td>\n      <td>6e9ad3bd-2e32-11e9-93e5-dca9047ef277</td>\n      <td>1</td>\n      <td>1024</td>\n      <td>726</td>\n    </tr>\n    <tr>\n      <th>57</th>\n      <td>03-Jan-2016 15:55:00</td>\n      <td>bf25c987-2bf6-11e9-bcad-06f10d5896c4.jpg</td>\n      <td>1</td>\n      <td>bf25c987-2bf6-11e9-bcad-06f10d5896c4</td>\n      <td>37</td>\n      <td>Idaho Department of Fish and Game</td>\n      <td>6e9ad405-2e32-11e9-830b-dca9047ef277</td>\n      <td>1</td>\n      <td>1024</td>\n      <td>726</td>\n    </tr>\n    <tr>\n      <th>58</th>\n      <td>03-Jan-2016 16:00:00</td>\n      <td>bf25c988-2bf6-11e9-bcad-06f10d5896c4.jpg</td>\n      <td>1</td>\n      <td>bf25c988-2bf6-11e9-bcad-06f10d5896c4</td>\n      <td>37</td>\n      <td>Idaho Department of Fish and Game</td>\n      <td>6e9ad440-2e32-11e9-a2d6-dca9047ef277</td>\n      <td>1</td>\n      <td>1024</td>\n      <td>726</td>\n    </tr>\n    <tr>\n      <th>59</th>\n      <td>03-Jan-2016 16:05:00</td>\n      <td>bf25c989-2bf6-11e9-bcad-06f10d5896c4.jpg</td>\n      <td>1</td>\n      <td>bf25c989-2bf6-11e9-bcad-06f10d5896c4</td>\n      <td>37</td>\n      <td>Idaho Department of Fish and Game</td>\n      <td>6e9ad485-2e32-11e9-bbc6-dca9047ef277</td>\n      <td>1</td>\n      <td>1024</td>\n      <td>726</td>\n    </tr>\n  </tbody>\n</table>\n</div>"
     },
     "execution_count": 7,
     "metadata": {},
     "output_type": "execute_result"
    }
   ],
   "source": [
    "test_df.iloc[50:60]"
   ],
   "metadata": {
    "collapsed": false
   }
  },
  {
   "cell_type": "code",
   "execution_count": 12,
   "outputs": [
    {
     "data": {
      "text/plain": "    category_id        date_captured  \\\n50           11  2011-12-22 23:26:49   \n51            0  2014-09-09 19:00:00   \n52            0  2013-09-29 09:00:00   \n53            0  2013-10-04 13:52:07   \n54            0  2014-05-09 13:23:40   \n55           13  2012-02-12 22:20:38   \n56            0  2013-12-24 22:00:00   \n57            0  2014-07-10 04:00:00   \n58            0  2013-08-03 13:31:10   \n59            0  2014-05-08 11:43:52   \n\n                                   file_name  frame_num  \\\n50  58ff0fe6-23d2-11e8-a6a3-ec086b02610b.jpg          2   \n51  599290c6-23d2-11e8-a6a3-ec086b02610b.jpg          1   \n52  599d7d66-23d2-11e8-a6a3-ec086b02610b.jpg          1   \n53  598f78a4-23d2-11e8-a6a3-ec086b02610b.jpg          1   \n54  5a1b13d4-23d2-11e8-a6a3-ec086b02610b.jpg          1   \n55  5a2c8630-23d2-11e8-a6a3-ec086b02610b.jpg          1   \n56  59055eca-23d2-11e8-a6a3-ec086b02610b.jpg          1   \n57  59c1774b-23d2-11e8-a6a3-ec086b02610b.jpg          1   \n58  5a1fe744-23d2-11e8-a6a3-ec086b02610b.jpg          5   \n59  58d92fb3-23d2-11e8-a6a3-ec086b02610b.jpg          1   \n\n                                      id  location  rights_holder  \\\n50  58ff0fe6-23d2-11e8-a6a3-ec086b02610b       130   Justin Brown   \n51  599290c6-23d2-11e8-a6a3-ec086b02610b        26  Erin Boydston   \n52  599d7d66-23d2-11e8-a6a3-ec086b02610b        23  Erin Boydston   \n53  598f78a4-23d2-11e8-a6a3-ec086b02610b        26  Erin Boydston   \n54  5a1b13d4-23d2-11e8-a6a3-ec086b02610b        26  Erin Boydston   \n55  5a2c8630-23d2-11e8-a6a3-ec086b02610b        46   Justin Brown   \n56  59055eca-23d2-11e8-a6a3-ec086b02610b        96  Erin Boydston   \n57  59c1774b-23d2-11e8-a6a3-ec086b02610b        57  Erin Boydston   \n58  5a1fe744-23d2-11e8-a6a3-ec086b02610b        56   Justin Brown   \n59  58d92fb3-23d2-11e8-a6a3-ec086b02610b        96  Erin Boydston   \n\n                                  seq_id  seq_num_frames  width  height  \\\n50  6f0d3461-5567-11e8-86be-dca9047ef277               3   1024     747   \n51  6f4d9ae6-5567-11e8-9e3b-dca9047ef277               1   1024     747   \n52  6fde1a14-5567-11e8-86f5-dca9047ef277               1   1024     747   \n53  6f21b7b5-5567-11e8-844d-dca9047ef277               1   1024     747   \n54  6f3909d4-5567-11e8-aab8-dca9047ef277               1   1024     747   \n55  6f185319-5567-11e8-8d8c-dca9047ef277               3   1024     747   \n56  6f93c368-5567-11e8-9dc4-dca9047ef277               1   1024     747   \n57  6f8c7007-5567-11e8-85d2-dca9047ef277               1   1024     747   \n58  7010efc0-5567-11e8-8105-dca9047ef277               5   1024     747   \n59  6fa205a6-5567-11e8-84b5-dca9047ef277               1   1024     747   \n\n   classes_wild  \n50       coyote  \n51        empty  \n52        empty  \n53        empty  \n54        empty  \n55      raccoon  \n56        empty  \n57        empty  \n58        empty  \n59        empty  ",
      "text/html": "<div>\n<style scoped>\n    .dataframe tbody tr th:only-of-type {\n        vertical-align: middle;\n    }\n\n    .dataframe tbody tr th {\n        vertical-align: top;\n    }\n\n    .dataframe thead th {\n        text-align: right;\n    }\n</style>\n<table border=\"1\" class=\"dataframe\">\n  <thead>\n    <tr style=\"text-align: right;\">\n      <th></th>\n      <th>category_id</th>\n      <th>date_captured</th>\n      <th>file_name</th>\n      <th>frame_num</th>\n      <th>id</th>\n      <th>location</th>\n      <th>rights_holder</th>\n      <th>seq_id</th>\n      <th>seq_num_frames</th>\n      <th>width</th>\n      <th>height</th>\n      <th>classes_wild</th>\n    </tr>\n  </thead>\n  <tbody>\n    <tr>\n      <th>50</th>\n      <td>11</td>\n      <td>2011-12-22 23:26:49</td>\n      <td>58ff0fe6-23d2-11e8-a6a3-ec086b02610b.jpg</td>\n      <td>2</td>\n      <td>58ff0fe6-23d2-11e8-a6a3-ec086b02610b</td>\n      <td>130</td>\n      <td>Justin Brown</td>\n      <td>6f0d3461-5567-11e8-86be-dca9047ef277</td>\n      <td>3</td>\n      <td>1024</td>\n      <td>747</td>\n      <td>coyote</td>\n    </tr>\n    <tr>\n      <th>51</th>\n      <td>0</td>\n      <td>2014-09-09 19:00:00</td>\n      <td>599290c6-23d2-11e8-a6a3-ec086b02610b.jpg</td>\n      <td>1</td>\n      <td>599290c6-23d2-11e8-a6a3-ec086b02610b</td>\n      <td>26</td>\n      <td>Erin Boydston</td>\n      <td>6f4d9ae6-5567-11e8-9e3b-dca9047ef277</td>\n      <td>1</td>\n      <td>1024</td>\n      <td>747</td>\n      <td>empty</td>\n    </tr>\n    <tr>\n      <th>52</th>\n      <td>0</td>\n      <td>2013-09-29 09:00:00</td>\n      <td>599d7d66-23d2-11e8-a6a3-ec086b02610b.jpg</td>\n      <td>1</td>\n      <td>599d7d66-23d2-11e8-a6a3-ec086b02610b</td>\n      <td>23</td>\n      <td>Erin Boydston</td>\n      <td>6fde1a14-5567-11e8-86f5-dca9047ef277</td>\n      <td>1</td>\n      <td>1024</td>\n      <td>747</td>\n      <td>empty</td>\n    </tr>\n    <tr>\n      <th>53</th>\n      <td>0</td>\n      <td>2013-10-04 13:52:07</td>\n      <td>598f78a4-23d2-11e8-a6a3-ec086b02610b.jpg</td>\n      <td>1</td>\n      <td>598f78a4-23d2-11e8-a6a3-ec086b02610b</td>\n      <td>26</td>\n      <td>Erin Boydston</td>\n      <td>6f21b7b5-5567-11e8-844d-dca9047ef277</td>\n      <td>1</td>\n      <td>1024</td>\n      <td>747</td>\n      <td>empty</td>\n    </tr>\n    <tr>\n      <th>54</th>\n      <td>0</td>\n      <td>2014-05-09 13:23:40</td>\n      <td>5a1b13d4-23d2-11e8-a6a3-ec086b02610b.jpg</td>\n      <td>1</td>\n      <td>5a1b13d4-23d2-11e8-a6a3-ec086b02610b</td>\n      <td>26</td>\n      <td>Erin Boydston</td>\n      <td>6f3909d4-5567-11e8-aab8-dca9047ef277</td>\n      <td>1</td>\n      <td>1024</td>\n      <td>747</td>\n      <td>empty</td>\n    </tr>\n    <tr>\n      <th>55</th>\n      <td>13</td>\n      <td>2012-02-12 22:20:38</td>\n      <td>5a2c8630-23d2-11e8-a6a3-ec086b02610b.jpg</td>\n      <td>1</td>\n      <td>5a2c8630-23d2-11e8-a6a3-ec086b02610b</td>\n      <td>46</td>\n      <td>Justin Brown</td>\n      <td>6f185319-5567-11e8-8d8c-dca9047ef277</td>\n      <td>3</td>\n      <td>1024</td>\n      <td>747</td>\n      <td>raccoon</td>\n    </tr>\n    <tr>\n      <th>56</th>\n      <td>0</td>\n      <td>2013-12-24 22:00:00</td>\n      <td>59055eca-23d2-11e8-a6a3-ec086b02610b.jpg</td>\n      <td>1</td>\n      <td>59055eca-23d2-11e8-a6a3-ec086b02610b</td>\n      <td>96</td>\n      <td>Erin Boydston</td>\n      <td>6f93c368-5567-11e8-9dc4-dca9047ef277</td>\n      <td>1</td>\n      <td>1024</td>\n      <td>747</td>\n      <td>empty</td>\n    </tr>\n    <tr>\n      <th>57</th>\n      <td>0</td>\n      <td>2014-07-10 04:00:00</td>\n      <td>59c1774b-23d2-11e8-a6a3-ec086b02610b.jpg</td>\n      <td>1</td>\n      <td>59c1774b-23d2-11e8-a6a3-ec086b02610b</td>\n      <td>57</td>\n      <td>Erin Boydston</td>\n      <td>6f8c7007-5567-11e8-85d2-dca9047ef277</td>\n      <td>1</td>\n      <td>1024</td>\n      <td>747</td>\n      <td>empty</td>\n    </tr>\n    <tr>\n      <th>58</th>\n      <td>0</td>\n      <td>2013-08-03 13:31:10</td>\n      <td>5a1fe744-23d2-11e8-a6a3-ec086b02610b.jpg</td>\n      <td>5</td>\n      <td>5a1fe744-23d2-11e8-a6a3-ec086b02610b</td>\n      <td>56</td>\n      <td>Justin Brown</td>\n      <td>7010efc0-5567-11e8-8105-dca9047ef277</td>\n      <td>5</td>\n      <td>1024</td>\n      <td>747</td>\n      <td>empty</td>\n    </tr>\n    <tr>\n      <th>59</th>\n      <td>0</td>\n      <td>2014-05-08 11:43:52</td>\n      <td>58d92fb3-23d2-11e8-a6a3-ec086b02610b.jpg</td>\n      <td>1</td>\n      <td>58d92fb3-23d2-11e8-a6a3-ec086b02610b</td>\n      <td>96</td>\n      <td>Erin Boydston</td>\n      <td>6fa205a6-5567-11e8-84b5-dca9047ef277</td>\n      <td>1</td>\n      <td>1024</td>\n      <td>747</td>\n      <td>empty</td>\n    </tr>\n  </tbody>\n</table>\n</div>"
     },
     "execution_count": 12,
     "metadata": {},
     "output_type": "execute_result"
    }
   ],
   "source": [
    "# code from https://www.kaggle.com/gpreda/iwildcam-2019-eda\n",
    "\n",
    "classes_wild = {0: 'empty', 1: 'deer', 2: 'moose', 3: 'squirrel', 4: 'rodent', 5: 'small_mammal',\n",
    "                6: 'elk', 7: 'pronghorn_antelope', 8: 'rabbit', 9: 'bighorn_sheep', 10: 'fox', 11: 'coyote',\n",
    "                12: 'black_bear', 13: 'raccoon', 14: 'skunk', 15: 'wolf', 16: 'bobcat', 17: 'cat',\n",
    "                18: 'dog', 19: 'opossum', 20: 'bison', 21: 'mountain_goat', 22: 'mountain_lion'}\n",
    "\n",
    "train_df_all['classes_wild'] = train_df_all['category_id'].apply(lambda cw: classes_wild[cw])\n",
    "train_df_all.iloc[50:60]"
   ],
   "metadata": {
    "collapsed": false
   }
  },
  {
   "cell_type": "code",
   "execution_count": 11,
   "outputs": [
    {
     "name": "stdout",
     "output_type": "stream",
     "text": [
      "empty            131457\n",
      "opossum           14106\n",
      "raccoon            8623\n",
      "coyote             7209\n",
      "rabbit             6938\n",
      "deer               6102\n",
      "bobcat             5975\n",
      "cat                4759\n",
      "squirrel           3398\n",
      "dog                3035\n",
      "rodent             2210\n",
      "skunk              1361\n",
      "fox                1093\n",
      "mountain_lion        33\n",
      "Name: classes_wild, dtype: int64\n"
     ]
    },
    {
     "data": {
      "text/plain": "<Figure size 720x360 with 1 Axes>",
      "image/png": "[encoded data removed]"
     },
     "metadata": {
      "needs_background": "light"
     },
     "output_type": "display_data"
    },
    {
     "name": "stdout",
     "output_type": "stream",
     "text": [
      "Only 14 classes are presented in the train set\n"
     ]
    }
   ],
   "source": [
    "# Category distribution\n",
    "class_hist = train_df_all['classes_wild'].value_counts()\n",
    "print(class_hist)\n",
    "plt.figure(figsize=(10,5))\n",
    "class_hist.plot(kind='bar',  title=\"Category distribution\",)\n",
    "plt.show()\n",
    "print(f\"Only {len(class_hist)} classes are presented in the train set\")"
   ],
   "metadata": {
    "collapsed": false
   }
  },
  {
   "cell_type": "markdown",
   "source": [
    "As seen in the histogram we are witnessing here for a very imbalanced data, as the 'empty' class is far bigger than all other classes combined.\n",
    "Furthermore, even when ignoring the 'empty' class, the data is still very imbalanced between the classes And some classes are not even train set at all, i.e. only 14 out of 23 classes are presented in the train set."
   ],
   "metadata": {
    "collapsed": false
   }
  },
  {
   "cell_type": "markdown",
   "source": [
    "### Reduce Class Indices"
   ],
   "metadata": {
    "collapsed": false
   }
  },
  {
   "cell_type": "code",
   "execution_count": 14,
   "outputs": [
    {
     "name": "stdout",
     "output_type": "stream",
     "text": [
      "{19: 0, 0: 1, 3: 2, 8: 3, 4: 4, 13: 5, 1: 6, 11: 7, 16: 8, 17: 9, 14: 10, 18: 11, 10: 12, 22: 13}\n"
     ]
    }
   ],
   "source": [
    "CLASSES_TO_USE = train_df_all['category_id'].unique()\n",
    "NUM_CLASSES = len(CLASSES_TO_USE)\n",
    "CLASSMAP = dict([(i, j) for i, j in zip(CLASSES_TO_USE, range(NUM_CLASSES))])\n",
    "REVERSE_CLASSMAP = dict([(v, k) for k, v in CLASSMAP.items()])\n",
    "print(CLASSMAP)\n",
    "# define new id\n",
    "train_df_all['category_new_id']=train_df_all['category_id'].map(CLASSMAP)\n",
    "train_df = train_df_all[['file_name','category_new_id']]"
   ],
   "metadata": {
    "collapsed": false
   }
  },
  {
   "cell_type": "markdown",
   "source": [
    "### Data Loading"
   ],
   "metadata": {
    "collapsed": false
   }
  },
  {
   "cell_type": "code",
   "execution_count": 28,
   "outputs": [],
   "source": [
    "# Custom data generator\n",
    "class WildDataset(Dataset):\n",
    "    def __init__(self, df, img_dir, augs=None):\n",
    "        self.df = df\n",
    "        self.img_dir = img_dir\n",
    "        self.augs = augs\n",
    "        self.sampler = self.make_sampler()\n",
    "\n",
    "    def make_sampler(self):\n",
    "        y_train = self.df['category_new_id']\n",
    "        class_sample_count = np.array([len(np.where(y_train == t)[0]) for t in np.unique(y_train)])\n",
    "        weight = len(np.unique(y_train)) / class_sample_count\n",
    "        sample_weights = np.array([weight[t] for t in y_train])\n",
    "        sample_weights = torch.from_numpy(sample_weights)\n",
    "        return WeightedRandomSampler(weights=sample_weights, num_samples = len(self.df), replacement=True)\n",
    "\n",
    "    def __len__(self):\n",
    "        return len(self.df)\n",
    "\n",
    "    def __getitem__(self, idx):\n",
    "        img_name = os.path.join(self.img_dir,\n",
    "                               self.df.iloc[idx, 0])\n",
    "        image = cv2.imread(img_name)\n",
    "        label = self.df.iloc[idx, 1]\n",
    "        if self.augs is not None:\n",
    "            image = self.augs(image)\n",
    "        return image, label\n"
   ],
   "metadata": {
    "collapsed": false
   }
  },
  {
   "cell_type": "code",
   "execution_count": null,
   "outputs": [],
   "source": [
    "\n",
    "\n",
    "train_set = WildDataset(df=train_df, img_dir=train_dir)\n",
    "\n",
    "\n",
    "train_loader = DataLoader(dataset=train_set, batch_size=24, sampler=train_set.sampler)"
   ],
   "metadata": {
    "collapsed": false
   }
  }
 ],
 "metadata": {
  "kernelspec": {
   "name": "pycharm-5f61d611",
   "language": "python",
   "display_name": "PyCharm (final_project)"
  },
  "language_info": {
   "codemirror_mode": {
    "name": "ipython",
    "version": 2
   },
   "file_extension": ".py",
   "mimetype": "text/x-python",
   "name": "python",
   "nbconvert_exporter": "python",
   "pygments_lexer": "ipython2",
   "version": "2.7.6"
  },
  "pycharm": {
   "stem_cell": {
    "cell_type": "raw",
    "source": [
     "##EDA <br/> (Exploratory Data Analysis)\n"
    ],
    "metadata": {
     "collapsed": false
    }
   }
  }
 },
 "nbformat": 4,
 "nbformat_minor": 0
}
